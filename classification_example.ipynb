{
  "nbformat": 4,
  "nbformat_minor": 0,
  "metadata": {
    "colab": {
      "name": "classification_example.ipynb",
      "provenance": [],
      "collapsed_sections": [],
      "authorship_tag": "ABX9TyM308VLbHbtd3I+XPXpUffU",
      "include_colab_link": true
    },
    "kernelspec": {
      "name": "python3",
      "display_name": "Python 3"
    },
    "language_info": {
      "name": "python"
    }
  },
  "cells": [
    {
      "cell_type": "markdown",
      "metadata": {
        "id": "view-in-github",
        "colab_type": "text"
      },
      "source": [
        "<a href=\"https://colab.research.google.com/github/bc0de0/jupyter_classification_example/blob/main/classification_example.ipynb\" target=\"_parent\"><img src=\"https://colab.research.google.com/assets/colab-badge.svg\" alt=\"Open In Colab\"/></a>"
      ]
    },
    {
      "cell_type": "code",
      "execution_count": 2,
      "metadata": {
        "id": "wpdL_jYepKu5"
      },
      "outputs": [],
      "source": [
        "%tensorflow_version 2.x"
      ]
    },
    {
      "cell_type": "code",
      "source": [
        "from __future__ import absolute_import, division, print_function, unicode_literals\n",
        "\n",
        "import numpy as np\n",
        "import pandas as pd\n",
        "from six.moves import urllib\n",
        "\n",
        "import tensorflow as tf"
      ],
      "metadata": {
        "id": "70-4pkZlpQrJ"
      },
      "execution_count": 23,
      "outputs": []
    },
    {
      "cell_type": "code",
      "source": [
        "CSV_COLUMN_NAMES = ['SepalLength', 'SepalWidth', 'PetalLength', 'PetalWidth', 'Species']\n",
        "SPECIES = ['Setosa', 'Versicolor', 'Verginica']"
      ],
      "metadata": {
        "id": "0zdq3vaprSjN"
      },
      "execution_count": 3,
      "outputs": []
    },
    {
      "cell_type": "code",
      "source": [
        "train_path = tf.keras.utils.get_file(\"iris_training.csv\", \"https://storage.googleapis.com/download.tensorflow.org/data/iris_training.csv\")\n",
        "test_path = tf.keras.utils.get_file(\"iris_test.csv\", \"https://storage.googleapis.com/download.tensorflow.org/data/iris_test.csv\")\n",
        "\n",
        "train = pd.read_csv(train_path, names=CSV_COLUMN_NAMES, header=0)\n",
        "test = pd.read_csv(test_path, names=CSV_COLUMN_NAMES, header=0)\n",
        "train_y = train.pop('Species')\n",
        "test_y = test.pop('Species')\n",
        "train.head()\n",
        "\n"
      ],
      "metadata": {
        "colab": {
          "base_uri": "https://localhost:8080/",
          "height": 206
        },
        "id": "biLpgV44r6dN",
        "outputId": "3fcfaf87-e837-49ab-8f79-1cacf1f4c4e3"
      },
      "execution_count": 30,
      "outputs": [
        {
          "output_type": "execute_result",
          "data": {
            "text/plain": [
              "   SepalLength  SepalWidth  PetalLength  PetalWidth\n",
              "0          6.4         2.8          5.6         2.2\n",
              "1          5.0         2.3          3.3         1.0\n",
              "2          4.9         2.5          4.5         1.7\n",
              "3          4.9         3.1          1.5         0.1\n",
              "4          5.7         3.8          1.7         0.3"
            ],
            "text/html": [
              "\n",
              "  <div id=\"df-19a856bf-6efc-4713-801e-0794c72e28e1\">\n",
              "    <div class=\"colab-df-container\">\n",
              "      <div>\n",
              "<style scoped>\n",
              "    .dataframe tbody tr th:only-of-type {\n",
              "        vertical-align: middle;\n",
              "    }\n",
              "\n",
              "    .dataframe tbody tr th {\n",
              "        vertical-align: top;\n",
              "    }\n",
              "\n",
              "    .dataframe thead th {\n",
              "        text-align: right;\n",
              "    }\n",
              "</style>\n",
              "<table border=\"1\" class=\"dataframe\">\n",
              "  <thead>\n",
              "    <tr style=\"text-align: right;\">\n",
              "      <th></th>\n",
              "      <th>SepalLength</th>\n",
              "      <th>SepalWidth</th>\n",
              "      <th>PetalLength</th>\n",
              "      <th>PetalWidth</th>\n",
              "    </tr>\n",
              "  </thead>\n",
              "  <tbody>\n",
              "    <tr>\n",
              "      <th>0</th>\n",
              "      <td>6.4</td>\n",
              "      <td>2.8</td>\n",
              "      <td>5.6</td>\n",
              "      <td>2.2</td>\n",
              "    </tr>\n",
              "    <tr>\n",
              "      <th>1</th>\n",
              "      <td>5.0</td>\n",
              "      <td>2.3</td>\n",
              "      <td>3.3</td>\n",
              "      <td>1.0</td>\n",
              "    </tr>\n",
              "    <tr>\n",
              "      <th>2</th>\n",
              "      <td>4.9</td>\n",
              "      <td>2.5</td>\n",
              "      <td>4.5</td>\n",
              "      <td>1.7</td>\n",
              "    </tr>\n",
              "    <tr>\n",
              "      <th>3</th>\n",
              "      <td>4.9</td>\n",
              "      <td>3.1</td>\n",
              "      <td>1.5</td>\n",
              "      <td>0.1</td>\n",
              "    </tr>\n",
              "    <tr>\n",
              "      <th>4</th>\n",
              "      <td>5.7</td>\n",
              "      <td>3.8</td>\n",
              "      <td>1.7</td>\n",
              "      <td>0.3</td>\n",
              "    </tr>\n",
              "  </tbody>\n",
              "</table>\n",
              "</div>\n",
              "      <button class=\"colab-df-convert\" onclick=\"convertToInteractive('df-19a856bf-6efc-4713-801e-0794c72e28e1')\"\n",
              "              title=\"Convert this dataframe to an interactive table.\"\n",
              "              style=\"display:none;\">\n",
              "        \n",
              "  <svg xmlns=\"http://www.w3.org/2000/svg\" height=\"24px\"viewBox=\"0 0 24 24\"\n",
              "       width=\"24px\">\n",
              "    <path d=\"M0 0h24v24H0V0z\" fill=\"none\"/>\n",
              "    <path d=\"M18.56 5.44l.94 2.06.94-2.06 2.06-.94-2.06-.94-.94-2.06-.94 2.06-2.06.94zm-11 1L8.5 8.5l.94-2.06 2.06-.94-2.06-.94L8.5 2.5l-.94 2.06-2.06.94zm10 10l.94 2.06.94-2.06 2.06-.94-2.06-.94-.94-2.06-.94 2.06-2.06.94z\"/><path d=\"M17.41 7.96l-1.37-1.37c-.4-.4-.92-.59-1.43-.59-.52 0-1.04.2-1.43.59L10.3 9.45l-7.72 7.72c-.78.78-.78 2.05 0 2.83L4 21.41c.39.39.9.59 1.41.59.51 0 1.02-.2 1.41-.59l7.78-7.78 2.81-2.81c.8-.78.8-2.07 0-2.86zM5.41 20L4 18.59l7.72-7.72 1.47 1.35L5.41 20z\"/>\n",
              "  </svg>\n",
              "      </button>\n",
              "      \n",
              "  <style>\n",
              "    .colab-df-container {\n",
              "      display:flex;\n",
              "      flex-wrap:wrap;\n",
              "      gap: 12px;\n",
              "    }\n",
              "\n",
              "    .colab-df-convert {\n",
              "      background-color: #E8F0FE;\n",
              "      border: none;\n",
              "      border-radius: 50%;\n",
              "      cursor: pointer;\n",
              "      display: none;\n",
              "      fill: #1967D2;\n",
              "      height: 32px;\n",
              "      padding: 0 0 0 0;\n",
              "      width: 32px;\n",
              "    }\n",
              "\n",
              "    .colab-df-convert:hover {\n",
              "      background-color: #E2EBFA;\n",
              "      box-shadow: 0px 1px 2px rgba(60, 64, 67, 0.3), 0px 1px 3px 1px rgba(60, 64, 67, 0.15);\n",
              "      fill: #174EA6;\n",
              "    }\n",
              "\n",
              "    [theme=dark] .colab-df-convert {\n",
              "      background-color: #3B4455;\n",
              "      fill: #D2E3FC;\n",
              "    }\n",
              "\n",
              "    [theme=dark] .colab-df-convert:hover {\n",
              "      background-color: #434B5C;\n",
              "      box-shadow: 0px 1px 3px 1px rgba(0, 0, 0, 0.15);\n",
              "      filter: drop-shadow(0px 1px 2px rgba(0, 0, 0, 0.3));\n",
              "      fill: #FFFFFF;\n",
              "    }\n",
              "  </style>\n",
              "\n",
              "      <script>\n",
              "        const buttonEl =\n",
              "          document.querySelector('#df-19a856bf-6efc-4713-801e-0794c72e28e1 button.colab-df-convert');\n",
              "        buttonEl.style.display =\n",
              "          google.colab.kernel.accessAllowed ? 'block' : 'none';\n",
              "\n",
              "        async function convertToInteractive(key) {\n",
              "          const element = document.querySelector('#df-19a856bf-6efc-4713-801e-0794c72e28e1');\n",
              "          const dataTable =\n",
              "            await google.colab.kernel.invokeFunction('convertToInteractive',\n",
              "                                                     [key], {});\n",
              "          if (!dataTable) return;\n",
              "\n",
              "          const docLinkHtml = 'Like what you see? Visit the ' +\n",
              "            '<a target=\"_blank\" href=https://colab.research.google.com/notebooks/data_table.ipynb>data table notebook</a>'\n",
              "            + ' to learn more about interactive tables.';\n",
              "          element.innerHTML = '';\n",
              "          dataTable['output_type'] = 'display_data';\n",
              "          await google.colab.output.renderOutput(dataTable, element);\n",
              "          const docLink = document.createElement('div');\n",
              "          docLink.innerHTML = docLinkHtml;\n",
              "          element.appendChild(docLink);\n",
              "        }\n",
              "      </script>\n",
              "    </div>\n",
              "  </div>\n",
              "  "
            ]
          },
          "metadata": {},
          "execution_count": 30
        }
      ]
    },
    {
      "cell_type": "code",
      "source": [
        "train.shape\n"
      ],
      "metadata": {
        "colab": {
          "base_uri": "https://localhost:8080/"
        },
        "id": "M_uorDIUuKFh",
        "outputId": "afdb9085-b22f-4d71-f7e4-62935fb17b0e"
      },
      "execution_count": 31,
      "outputs": [
        {
          "output_type": "execute_result",
          "data": {
            "text/plain": [
              "(120, 4)"
            ]
          },
          "metadata": {},
          "execution_count": 31
        }
      ]
    },
    {
      "cell_type": "code",
      "source": [
        "def input_fn(features, labels, training=True, batch_size=256):\n",
        "  dataset = tf.data.Dataset.from_tensor_slices((dict(features), labels))\n",
        "  if training:\n",
        "    dataset = dataset.shuffle(1000).repeat()\n",
        "  return dataset.batch(batch_size)"
      ],
      "metadata": {
        "id": "hQy5R_sDvD-x"
      },
      "execution_count": 32,
      "outputs": []
    },
    {
      "cell_type": "code",
      "source": [
        "my_feature_columns = []\n",
        "for key in train.keys():\n",
        "  my_feature_columns.append(tf.feature_column.numeric_column(key=key))\n",
        "print(my_feature_columns) \n"
      ],
      "metadata": {
        "colab": {
          "base_uri": "https://localhost:8080/"
        },
        "id": "j7XRwTEE2rXR",
        "outputId": "e160de4d-748e-44c2-fb36-7af5d3bf7ef5"
      },
      "execution_count": 33,
      "outputs": [
        {
          "output_type": "stream",
          "name": "stdout",
          "text": [
            "[NumericColumn(key='SepalLength', shape=(1,), default_value=None, dtype=tf.float32, normalizer_fn=None), NumericColumn(key='SepalWidth', shape=(1,), default_value=None, dtype=tf.float32, normalizer_fn=None), NumericColumn(key='PetalLength', shape=(1,), default_value=None, dtype=tf.float32, normalizer_fn=None), NumericColumn(key='PetalWidth', shape=(1,), default_value=None, dtype=tf.float32, normalizer_fn=None)]\n"
          ]
        }
      ]
    },
    {
      "cell_type": "code",
      "source": [
        "classifier = tf.estimator.DNNClassifier(feature_columns=my_feature_columns, hidden_units=[30,10], n_classes=3)\n",
        "\n"
      ],
      "metadata": {
        "colab": {
          "base_uri": "https://localhost:8080/"
        },
        "id": "8fJ-T6Rm34Gm",
        "outputId": "9167143e-d046-49eb-90a1-4993e5145fac"
      },
      "execution_count": 34,
      "outputs": [
        {
          "output_type": "stream",
          "name": "stdout",
          "text": [
            "INFO:tensorflow:Using default config.\n",
            "WARNING:tensorflow:Using temporary folder as model directory: /tmp/tmpraq1lby6\n",
            "INFO:tensorflow:Using config: {'_model_dir': '/tmp/tmpraq1lby6', '_tf_random_seed': None, '_save_summary_steps': 100, '_save_checkpoints_steps': None, '_save_checkpoints_secs': 600, '_session_config': allow_soft_placement: true\n",
            "graph_options {\n",
            "  rewrite_options {\n",
            "    meta_optimizer_iterations: ONE\n",
            "  }\n",
            "}\n",
            ", '_keep_checkpoint_max': 5, '_keep_checkpoint_every_n_hours': 10000, '_log_step_count_steps': 100, '_train_distribute': None, '_device_fn': None, '_protocol': None, '_eval_distribute': None, '_experimental_distribute': None, '_experimental_max_worker_delay_secs': None, '_session_creation_timeout_secs': 7200, '_checkpoint_save_graph_def': True, '_service': None, '_cluster_spec': ClusterSpec({}), '_task_type': 'worker', '_task_id': 0, '_global_id_in_cluster': 0, '_master': '', '_evaluation_master': '', '_is_chief': True, '_num_ps_replicas': 0, '_num_worker_replicas': 1}\n"
          ]
        }
      ]
    },
    {
      "cell_type": "code",
      "source": [
        "classifier.train(input_fn=lambda: input_fn(train, train_y, training=True), steps=5000)"
      ],
      "metadata": {
        "colab": {
          "base_uri": "https://localhost:8080/"
        },
        "id": "tyJ5pSM-4zgN",
        "outputId": "fe2eabe2-ea75-466b-fd43-8db214dc5137"
      },
      "execution_count": 35,
      "outputs": [
        {
          "output_type": "stream",
          "name": "stdout",
          "text": [
            "WARNING:tensorflow:From /usr/local/lib/python3.7/dist-packages/tensorflow/python/training/training_util.py:397: Variable.initialized_value (from tensorflow.python.ops.variables) is deprecated and will be removed in a future version.\n",
            "Instructions for updating:\n",
            "Use Variable.read_value. Variables in 2.X are initialized automatically both in eager and graph (inside tf.defun) contexts.\n",
            "INFO:tensorflow:Calling model_fn.\n",
            "WARNING:tensorflow:From /usr/local/lib/python3.7/dist-packages/keras/optimizer_v2/adagrad.py:84: calling Constant.__init__ (from tensorflow.python.ops.init_ops) with dtype is deprecated and will be removed in a future version.\n",
            "Instructions for updating:\n",
            "Call initializer instance with the dtype argument instead of passing it to the constructor\n",
            "INFO:tensorflow:Done calling model_fn.\n",
            "INFO:tensorflow:Create CheckpointSaverHook.\n",
            "INFO:tensorflow:Graph was finalized.\n",
            "INFO:tensorflow:Running local_init_op.\n",
            "INFO:tensorflow:Done running local_init_op.\n",
            "INFO:tensorflow:Calling checkpoint listeners before saving checkpoint 0...\n",
            "INFO:tensorflow:Saving checkpoints for 0 into /tmp/tmpraq1lby6/model.ckpt.\n",
            "INFO:tensorflow:Calling checkpoint listeners after saving checkpoint 0...\n",
            "INFO:tensorflow:loss = 1.8228645, step = 0\n",
            "INFO:tensorflow:global_step/sec: 260.748\n",
            "INFO:tensorflow:loss = 1.190892, step = 100 (0.388 sec)\n",
            "INFO:tensorflow:global_step/sec: 285.133\n",
            "INFO:tensorflow:loss = 1.1206923, step = 200 (0.349 sec)\n",
            "INFO:tensorflow:global_step/sec: 593.496\n",
            "INFO:tensorflow:loss = 1.0778179, step = 300 (0.168 sec)\n",
            "INFO:tensorflow:global_step/sec: 534.268\n",
            "INFO:tensorflow:loss = 1.0522473, step = 400 (0.190 sec)\n",
            "INFO:tensorflow:global_step/sec: 532.843\n",
            "INFO:tensorflow:loss = 1.0287538, step = 500 (0.189 sec)\n",
            "WARNING:tensorflow:It seems that global step (tf.train.get_global_step) has not been increased. Current value (could be stable): 502 vs previous value: 502. You could increase the global step by passing tf.train.get_global_step() to Optimizer.apply_gradients or Optimizer.minimize.\n",
            "INFO:tensorflow:global_step/sec: 541.377\n",
            "INFO:tensorflow:loss = 1.00541, step = 600 (0.182 sec)\n",
            "INFO:tensorflow:global_step/sec: 515.265\n",
            "INFO:tensorflow:loss = 0.9893081, step = 700 (0.197 sec)\n",
            "INFO:tensorflow:global_step/sec: 508.651\n",
            "INFO:tensorflow:loss = 0.9639467, step = 800 (0.195 sec)\n",
            "INFO:tensorflow:global_step/sec: 506.639\n",
            "INFO:tensorflow:loss = 0.9549129, step = 900 (0.197 sec)\n",
            "INFO:tensorflow:global_step/sec: 593.421\n",
            "INFO:tensorflow:loss = 0.93749416, step = 1000 (0.169 sec)\n",
            "INFO:tensorflow:global_step/sec: 584.14\n",
            "INFO:tensorflow:loss = 0.92763716, step = 1100 (0.171 sec)\n",
            "INFO:tensorflow:global_step/sec: 618.312\n",
            "INFO:tensorflow:loss = 0.914068, step = 1200 (0.159 sec)\n",
            "INFO:tensorflow:global_step/sec: 598.695\n",
            "INFO:tensorflow:loss = 0.8953173, step = 1300 (0.169 sec)\n",
            "INFO:tensorflow:global_step/sec: 578.533\n",
            "INFO:tensorflow:loss = 0.88184255, step = 1400 (0.170 sec)\n",
            "INFO:tensorflow:global_step/sec: 513.341\n",
            "INFO:tensorflow:loss = 0.86882865, step = 1500 (0.198 sec)\n",
            "INFO:tensorflow:global_step/sec: 566.734\n",
            "INFO:tensorflow:loss = 0.85558116, step = 1600 (0.176 sec)\n",
            "INFO:tensorflow:global_step/sec: 600.995\n",
            "INFO:tensorflow:loss = 0.84040093, step = 1700 (0.163 sec)\n",
            "INFO:tensorflow:global_step/sec: 609.062\n",
            "INFO:tensorflow:loss = 0.83621156, step = 1800 (0.164 sec)\n",
            "INFO:tensorflow:global_step/sec: 561.381\n",
            "INFO:tensorflow:loss = 0.8115524, step = 1900 (0.180 sec)\n",
            "INFO:tensorflow:global_step/sec: 623.13\n",
            "INFO:tensorflow:loss = 0.80590284, step = 2000 (0.158 sec)\n",
            "INFO:tensorflow:global_step/sec: 622.223\n",
            "INFO:tensorflow:loss = 0.7992681, step = 2100 (0.163 sec)\n",
            "INFO:tensorflow:global_step/sec: 583.27\n",
            "INFO:tensorflow:loss = 0.78772587, step = 2200 (0.172 sec)\n",
            "INFO:tensorflow:global_step/sec: 578.978\n",
            "INFO:tensorflow:loss = 0.78139675, step = 2300 (0.173 sec)\n",
            "INFO:tensorflow:global_step/sec: 623.191\n",
            "INFO:tensorflow:loss = 0.7583679, step = 2400 (0.159 sec)\n",
            "INFO:tensorflow:global_step/sec: 587.233\n",
            "INFO:tensorflow:loss = 0.7526444, step = 2500 (0.171 sec)\n",
            "INFO:tensorflow:global_step/sec: 616.861\n",
            "INFO:tensorflow:loss = 0.7427876, step = 2600 (0.162 sec)\n",
            "INFO:tensorflow:global_step/sec: 593.574\n",
            "INFO:tensorflow:loss = 0.73259866, step = 2700 (0.169 sec)\n",
            "INFO:tensorflow:global_step/sec: 624.466\n",
            "INFO:tensorflow:loss = 0.71719384, step = 2800 (0.158 sec)\n",
            "INFO:tensorflow:global_step/sec: 617.321\n",
            "INFO:tensorflow:loss = 0.7166471, step = 2900 (0.164 sec)\n",
            "INFO:tensorflow:global_step/sec: 637.559\n",
            "INFO:tensorflow:loss = 0.7032611, step = 3000 (0.155 sec)\n",
            "INFO:tensorflow:global_step/sec: 618.836\n",
            "INFO:tensorflow:loss = 0.6827035, step = 3100 (0.161 sec)\n",
            "INFO:tensorflow:global_step/sec: 601.709\n",
            "INFO:tensorflow:loss = 0.6864544, step = 3200 (0.167 sec)\n",
            "INFO:tensorflow:global_step/sec: 599.553\n",
            "INFO:tensorflow:loss = 0.67242396, step = 3300 (0.169 sec)\n",
            "INFO:tensorflow:global_step/sec: 637.622\n",
            "INFO:tensorflow:loss = 0.66002023, step = 3400 (0.154 sec)\n",
            "INFO:tensorflow:global_step/sec: 624.466\n",
            "INFO:tensorflow:loss = 0.66079783, step = 3500 (0.162 sec)\n",
            "INFO:tensorflow:global_step/sec: 575.487\n",
            "INFO:tensorflow:loss = 0.64831585, step = 3600 (0.175 sec)\n",
            "INFO:tensorflow:global_step/sec: 599.588\n",
            "INFO:tensorflow:loss = 0.62956923, step = 3700 (0.164 sec)\n",
            "INFO:tensorflow:global_step/sec: 553.038\n",
            "INFO:tensorflow:loss = 0.62983257, step = 3800 (0.182 sec)\n",
            "INFO:tensorflow:global_step/sec: 554.44\n",
            "INFO:tensorflow:loss = 0.621928, step = 3900 (0.178 sec)\n",
            "INFO:tensorflow:global_step/sec: 603.12\n",
            "INFO:tensorflow:loss = 0.6199333, step = 4000 (0.166 sec)\n",
            "INFO:tensorflow:global_step/sec: 587.097\n",
            "INFO:tensorflow:loss = 0.60402995, step = 4100 (0.170 sec)\n",
            "INFO:tensorflow:global_step/sec: 647.148\n",
            "INFO:tensorflow:loss = 0.5982734, step = 4200 (0.157 sec)\n",
            "INFO:tensorflow:global_step/sec: 663.526\n",
            "INFO:tensorflow:loss = 0.596393, step = 4300 (0.151 sec)\n",
            "INFO:tensorflow:global_step/sec: 650.62\n",
            "INFO:tensorflow:loss = 0.59214044, step = 4400 (0.154 sec)\n",
            "INFO:tensorflow:global_step/sec: 620.186\n",
            "INFO:tensorflow:loss = 0.58238846, step = 4500 (0.166 sec)\n",
            "INFO:tensorflow:global_step/sec: 199.389\n",
            "INFO:tensorflow:loss = 0.5791482, step = 4600 (0.499 sec)\n",
            "INFO:tensorflow:global_step/sec: 462.917\n",
            "INFO:tensorflow:loss = 0.569453, step = 4700 (0.216 sec)\n",
            "INFO:tensorflow:global_step/sec: 636.295\n",
            "INFO:tensorflow:loss = 0.55988353, step = 4800 (0.156 sec)\n",
            "INFO:tensorflow:global_step/sec: 655.108\n",
            "INFO:tensorflow:loss = 0.5643935, step = 4900 (0.156 sec)\n",
            "INFO:tensorflow:Calling checkpoint listeners before saving checkpoint 5000...\n",
            "INFO:tensorflow:Saving checkpoints for 5000 into /tmp/tmpraq1lby6/model.ckpt.\n",
            "INFO:tensorflow:Calling checkpoint listeners after saving checkpoint 5000...\n",
            "INFO:tensorflow:Loss for final step: 0.5486071.\n"
          ]
        },
        {
          "output_type": "execute_result",
          "data": {
            "text/plain": [
              "<tensorflow_estimator.python.estimator.canned.dnn.DNNClassifierV2 at 0x7f0197345090>"
            ]
          },
          "metadata": {},
          "execution_count": 35
        }
      ]
    },
    {
      "cell_type": "code",
      "source": [
        "eval_result = classifier.evaluate(input_fn=lambda: input_fn(test, test_y, training=False), steps=5000)\n",
        "print('\\nTest set Accuracy: {accuracy:0.3f}\\n'.format(**eval_result))"
      ],
      "metadata": {
        "colab": {
          "base_uri": "https://localhost:8080/"
        },
        "id": "f8inbVVUFMZa",
        "outputId": "e63519e7-4315-4cd0-edee-5b70c0b1ebc0"
      },
      "execution_count": 37,
      "outputs": [
        {
          "output_type": "stream",
          "name": "stdout",
          "text": [
            "INFO:tensorflow:Calling model_fn.\n",
            "INFO:tensorflow:Done calling model_fn.\n",
            "INFO:tensorflow:Starting evaluation at 2022-05-30T17:57:06\n",
            "INFO:tensorflow:Graph was finalized.\n",
            "INFO:tensorflow:Restoring parameters from /tmp/tmpraq1lby6/model.ckpt-5000\n",
            "INFO:tensorflow:Running local_init_op.\n",
            "INFO:tensorflow:Done running local_init_op.\n",
            "INFO:tensorflow:Inference Time : 0.35066s\n",
            "INFO:tensorflow:Finished evaluation at 2022-05-30-17:57:07\n",
            "INFO:tensorflow:Saving dict for global step 5000: accuracy = 0.6333333, average_loss = 0.6322735, global_step = 5000, loss = 0.6322735\n",
            "INFO:tensorflow:Saving 'checkpoint_path' summary for global step 5000: /tmp/tmpraq1lby6/model.ckpt-5000\n",
            "\n",
            "Test set Accuracy: 0.633\n",
            "\n"
          ]
        }
      ]
    }
  ]
}